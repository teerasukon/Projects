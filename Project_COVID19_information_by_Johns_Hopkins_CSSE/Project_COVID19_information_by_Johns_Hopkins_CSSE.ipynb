{
  "nbformat": 4,
  "nbformat_minor": 0,
  "metadata": {
    "colab": {
      "name": "Project : COVID19  information by Johns Hopkins CSSE",
      "provenance": [],
      "collapsed_sections": []
    },
    "kernelspec": {
      "name": "python3",
      "display_name": "Python 3"
    },
    "widgets": {
      "application/vnd.jupyter.widget-state+json": {
        "d95c159cffd0459c95299ec09dbd8640": {
          "model_module": "@jupyter-widgets/controls",
          "model_name": "VBoxModel",
          "state": {
            "_view_name": "VBoxView",
            "_dom_classes": [
              "widget-interact"
            ],
            "_model_name": "VBoxModel",
            "_view_module": "@jupyter-widgets/controls",
            "_model_module_version": "1.5.0",
            "_view_count": null,
            "_view_module_version": "1.5.0",
            "box_style": "",
            "layout": "IPY_MODEL_64ac9b993c604db2bc62c716dfcc9bc4",
            "_model_module": "@jupyter-widgets/controls",
            "children": [
              "IPY_MODEL_2dcb625578504f90bb4f1f8c14ff654c",
              "IPY_MODEL_4cfda9ce4f8745e3bde2df6f0b5ad34e"
            ]
          }
        },
        "64ac9b993c604db2bc62c716dfcc9bc4": {
          "model_module": "@jupyter-widgets/base",
          "model_name": "LayoutModel",
          "state": {
            "_view_name": "LayoutView",
            "grid_template_rows": null,
            "right": null,
            "justify_content": null,
            "_view_module": "@jupyter-widgets/base",
            "overflow": null,
            "_model_module_version": "1.2.0",
            "_view_count": null,
            "flex_flow": null,
            "width": null,
            "min_width": null,
            "border": null,
            "align_items": null,
            "bottom": null,
            "_model_module": "@jupyter-widgets/base",
            "top": null,
            "grid_column": null,
            "overflow_y": null,
            "overflow_x": null,
            "grid_auto_flow": null,
            "grid_area": null,
            "grid_template_columns": null,
            "flex": null,
            "_model_name": "LayoutModel",
            "justify_items": null,
            "grid_row": null,
            "max_height": null,
            "align_content": null,
            "visibility": null,
            "align_self": null,
            "height": null,
            "min_height": null,
            "padding": null,
            "grid_auto_rows": null,
            "grid_gap": null,
            "max_width": null,
            "order": null,
            "_view_module_version": "1.2.0",
            "grid_template_areas": null,
            "object_position": null,
            "object_fit": null,
            "grid_auto_columns": null,
            "margin": null,
            "display": null,
            "left": null
          }
        },
        "2dcb625578504f90bb4f1f8c14ff654c": {
          "model_module": "@jupyter-widgets/controls",
          "model_name": "DropdownModel",
          "state": {
            "_options_labels": [
              "Afghanistan",
              "Albania",
              "Algeria",
              "Andorra",
              "Angola",
              "Antigua and Barbuda",
              "Argentina",
              "Armenia",
              "Australia",
              "Austria",
              "Azerbaijan",
              "Bahamas",
              "Bahrain",
              "Bangladesh",
              "Barbados",
              "Belarus",
              "Belgium",
              "Belize",
              "Benin",
              "Bhutan",
              "Bolivia",
              "Bosnia and Herzegovina",
              "Botswana",
              "Brazil",
              "Brunei",
              "Bulgaria",
              "Burkina Faso",
              "Burma",
              "Burundi",
              "Cabo Verde",
              "Cambodia",
              "Cameroon",
              "Canada",
              "Central African Republic",
              "Chad",
              "Chile",
              "China",
              "Colombia",
              "Comoros",
              "Congo (Brazzaville)",
              "Congo (Kinshasa)",
              "Costa Rica",
              "Cote d'Ivoire",
              "Croatia",
              "Cuba",
              "Cyprus",
              "Czechia",
              "Denmark",
              "Diamond Princess",
              "Djibouti",
              "Dominica",
              "Dominican Republic",
              "Ecuador",
              "Egypt",
              "El Salvador",
              "Equatorial Guinea",
              "Eritrea",
              "Estonia",
              "Eswatini",
              "Ethiopia",
              "Fiji",
              "Finland",
              "France",
              "Gabon",
              "Gambia",
              "Georgia",
              "Germany",
              "Ghana",
              "Greece",
              "Grenada",
              "Guatemala",
              "Guinea",
              "Guinea-Bissau",
              "Guyana",
              "Haiti",
              "Holy See",
              "Honduras",
              "Hungary",
              "Iceland",
              "India",
              "Indonesia",
              "Iran",
              "Iraq",
              "Ireland",
              "Israel",
              "Italy",
              "Jamaica",
              "Japan",
              "Jordan",
              "Kazakhstan",
              "Kenya",
              "Korea, South",
              "Kosovo",
              "Kuwait",
              "Kyrgyzstan",
              "Laos",
              "Latvia",
              "Lebanon",
              "Lesotho",
              "Liberia",
              "Libya",
              "Liechtenstein",
              "Lithuania",
              "Luxembourg",
              "MS Zaandam",
              "Madagascar",
              "Malawi",
              "Malaysia",
              "Maldives",
              "Mali",
              "Malta",
              "Mauritania",
              "Mauritius",
              "Mexico",
              "Moldova",
              "Monaco",
              "Mongolia",
              "Montenegro",
              "Morocco",
              "Mozambique",
              "Namibia",
              "Nepal",
              "Netherlands",
              "New Zealand",
              "Nicaragua",
              "Niger",
              "Nigeria",
              "North Macedonia",
              "Norway",
              "Oman",
              "Pakistan",
              "Panama",
              "Papua New Guinea",
              "Paraguay",
              "Peru",
              "Philippines",
              "Poland",
              "Portugal",
              "Qatar",
              "Romania",
              "Russia",
              "Rwanda",
              "Saint Kitts and Nevis",
              "Saint Lucia",
              "Saint Vincent and the Grenadines",
              "San Marino",
              "Sao Tome and Principe",
              "Saudi Arabia",
              "Senegal",
              "Serbia",
              "Seychelles",
              "Sierra Leone",
              "Singapore",
              "Slovakia",
              "Slovenia",
              "Somalia",
              "South Africa",
              "South Sudan",
              "Spain",
              "Sri Lanka",
              "Sudan",
              "Suriname",
              "Sweden",
              "Switzerland",
              "Syria",
              "Taiwan*",
              "Tajikistan",
              "Tanzania",
              "Thailand",
              "Timor-Leste",
              "Togo",
              "Trinidad and Tobago",
              "Tunisia",
              "Turkey",
              "US",
              "Uganda",
              "Ukraine",
              "United Arab Emirates",
              "United Kingdom",
              "Uruguay",
              "Uzbekistan",
              "Venezuela",
              "Vietnam",
              "West Bank and Gaza",
              "Western Sahara",
              "Yemen",
              "Zambia",
              "Zimbabwe"
            ],
            "_view_name": "DropdownView",
            "style": "IPY_MODEL_b3e362cd45c642c3a989e62914a21f84",
            "_dom_classes": [],
            "description": "country",
            "_model_name": "DropdownModel",
            "index": 168,
            "_view_module": "@jupyter-widgets/controls",
            "_model_module_version": "1.5.0",
            "_view_count": null,
            "disabled": false,
            "_view_module_version": "1.5.0",
            "description_tooltip": null,
            "_model_module": "@jupyter-widgets/controls",
            "layout": "IPY_MODEL_ab5a8b49c50b4863b2300338b374be5e"
          }
        },
        "4cfda9ce4f8745e3bde2df6f0b5ad34e": {
          "model_module": "@jupyter-widgets/output",
          "model_name": "OutputModel",
          "state": {
            "_view_name": "OutputView",
            "msg_id": "",
            "_dom_classes": [],
            "_model_name": "OutputModel",
            "outputs": [
              {
                "output_type": "display_data",
                "metadata": {
                  "tags": [],
                  "image/png": {
                    "width": 611,
                    "height": 272
                  },
                  "needs_background": "light"
                },
                "image/png": "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\n",
                "text/plain": "<Figure size 720x288 with 1 Axes>"
              }
            ],
            "_view_module": "@jupyter-widgets/output",
            "_model_module_version": "1.0.0",
            "_view_count": null,
            "_view_module_version": "1.0.0",
            "layout": "IPY_MODEL_6857c7cbc5a44151aec5eeee7dc1b859",
            "_model_module": "@jupyter-widgets/output"
          }
        },
        "b3e362cd45c642c3a989e62914a21f84": {
          "model_module": "@jupyter-widgets/controls",
          "model_name": "DescriptionStyleModel",
          "state": {
            "_view_name": "StyleView",
            "_model_name": "DescriptionStyleModel",
            "description_width": "",
            "_view_module": "@jupyter-widgets/base",
            "_model_module_version": "1.5.0",
            "_view_count": null,
            "_view_module_version": "1.2.0",
            "_model_module": "@jupyter-widgets/controls"
          }
        },
        "ab5a8b49c50b4863b2300338b374be5e": {
          "model_module": "@jupyter-widgets/base",
          "model_name": "LayoutModel",
          "state": {
            "_view_name": "LayoutView",
            "grid_template_rows": null,
            "right": null,
            "justify_content": null,
            "_view_module": "@jupyter-widgets/base",
            "overflow": null,
            "_model_module_version": "1.2.0",
            "_view_count": null,
            "flex_flow": null,
            "width": null,
            "min_width": null,
            "border": null,
            "align_items": null,
            "bottom": null,
            "_model_module": "@jupyter-widgets/base",
            "top": null,
            "grid_column": null,
            "overflow_y": null,
            "overflow_x": null,
            "grid_auto_flow": null,
            "grid_area": null,
            "grid_template_columns": null,
            "flex": null,
            "_model_name": "LayoutModel",
            "justify_items": null,
            "grid_row": null,
            "max_height": null,
            "align_content": null,
            "visibility": null,
            "align_self": null,
            "height": null,
            "min_height": null,
            "padding": null,
            "grid_auto_rows": null,
            "grid_gap": null,
            "max_width": null,
            "order": null,
            "_view_module_version": "1.2.0",
            "grid_template_areas": null,
            "object_position": null,
            "object_fit": null,
            "grid_auto_columns": null,
            "margin": null,
            "display": null,
            "left": null
          }
        },
        "6857c7cbc5a44151aec5eeee7dc1b859": {
          "model_module": "@jupyter-widgets/base",
          "model_name": "LayoutModel",
          "state": {
            "_view_name": "LayoutView",
            "grid_template_rows": null,
            "right": null,
            "justify_content": null,
            "_view_module": "@jupyter-widgets/base",
            "overflow": null,
            "_model_module_version": "1.2.0",
            "_view_count": null,
            "flex_flow": null,
            "width": null,
            "min_width": null,
            "border": null,
            "align_items": null,
            "bottom": null,
            "_model_module": "@jupyter-widgets/base",
            "top": null,
            "grid_column": null,
            "overflow_y": null,
            "overflow_x": null,
            "grid_auto_flow": null,
            "grid_area": null,
            "grid_template_columns": null,
            "flex": null,
            "_model_name": "LayoutModel",
            "justify_items": null,
            "grid_row": null,
            "max_height": null,
            "align_content": null,
            "visibility": null,
            "align_self": null,
            "height": null,
            "min_height": null,
            "padding": null,
            "grid_auto_rows": null,
            "grid_gap": null,
            "max_width": null,
            "order": null,
            "_view_module_version": "1.2.0",
            "grid_template_areas": null,
            "object_position": null,
            "object_fit": null,
            "grid_auto_columns": null,
            "margin": null,
            "display": null,
            "left": null
          }
        }
      }
    }
  },
  "cells": [
    {
      "cell_type": "code",
      "metadata": {
        "id": "a4HIUL83fpUY",
        "colab_type": "code",
        "colab": {}
      },
      "source": [
        "import numpy as np\n",
        "import pandas as pd\n",
        "import matplotlib.pyplot as plt\n",
        "import seaborn as sns\n",
        "\n",
        "from pandas.plotting import register_matplotlib_converters\n",
        "register_matplotlib_converters()\n",
        "\n",
        "import ipywidgets as widgets\n",
        "from ipywidgets import interact, interactive, fixed, interact_manual\n",
        "%matplotlib inline\n",
        "%config InlineBackend.figure_format='retina'"
      ],
      "execution_count": 0,
      "outputs": []
    },
    {
      "cell_type": "code",
      "metadata": {
        "id": "u-93C52oiM59",
        "colab_type": "code",
        "colab": {}
      },
      "source": [
        "import warnings\n",
        "warnings.filterwarnings('ignore')"
      ],
      "execution_count": 0,
      "outputs": []
    },
    {
      "cell_type": "code",
      "metadata": {
        "id": "IEtQMzFvkJSz",
        "colab_type": "code",
        "colab": {}
      },
      "source": [
        "path = 'https://github.com/CSSEGISandData/COVID-19/raw/master/csse_covid_19_data/csse_covid_19_time_series/time_series_covid19_'\n",
        "status = ['confirmed_global','deaths_global','recovered_global']\n",
        "dfs = []\n",
        "for s in status :\n",
        "  d = pd.read_csv(f'{path}{s}.csv')\n",
        "  dfs.append(d)\n",
        "dfs"
      ],
      "execution_count": 0,
      "outputs": []
    },
    {
      "cell_type": "code",
      "metadata": {
        "id": "Eg8fEhuopKGh",
        "colab_type": "code",
        "colab": {}
      },
      "source": [
        "df = pd.concat(dfs,keys=status)\n",
        "df"
      ],
      "execution_count": 0,
      "outputs": []
    },
    {
      "cell_type": "code",
      "metadata": {
        "id": "WVqTzrJcqaRv",
        "colab_type": "code",
        "colab": {}
      },
      "source": [
        "dtmps = []\n",
        "for k in status:\n",
        "  dtmps.append(pd.melt(df.loc[k],\n",
        "                       id_vars=['Province/State','Country/Region','Lat','Long'],\n",
        "                       var_name='Date', value_name=k))\n",
        "dtmps"
      ],
      "execution_count": 0,
      "outputs": []
    },
    {
      "cell_type": "code",
      "metadata": {
        "id": "tPFI32lJkSRP",
        "colab_type": "code",
        "colab": {}
      },
      "source": [
        "dcovid=pd.concat(dtmps, axis=1)\n",
        "dcovid"
      ],
      "execution_count": 0,
      "outputs": []
    },
    {
      "cell_type": "code",
      "metadata": {
        "id": "EPodbjYpk1Hi",
        "colab_type": "code",
        "colab": {}
      },
      "source": [
        "dcovid.columns.duplicated()"
      ],
      "execution_count": 0,
      "outputs": []
    },
    {
      "cell_type": "code",
      "metadata": {
        "id": "jdHn5P4Zlb7i",
        "colab_type": "code",
        "colab": {}
      },
      "source": [
        "dcovid=dcovid.loc[:,~dcovid.columns.duplicated()]\n",
        "dcovid"
      ],
      "execution_count": 0,
      "outputs": []
    },
    {
      "cell_type": "code",
      "metadata": {
        "id": "bMPWjQQkl2rg",
        "colab_type": "code",
        "colab": {}
      },
      "source": [
        "dcovid.info()"
      ],
      "execution_count": 0,
      "outputs": []
    },
    {
      "cell_type": "code",
      "metadata": {
        "id": "Z2nYqf4Rl5xd",
        "colab_type": "code",
        "colab": {}
      },
      "source": [
        "dcovid['Date']=pd.to_datetime(dcovid['Date'])\n",
        "dcovid.info()"
      ],
      "execution_count": 0,
      "outputs": []
    },
    {
      "cell_type": "code",
      "metadata": {
        "id": "Hz4yEhDSmlwS",
        "colab_type": "code",
        "colab": {}
      },
      "source": [
        "dcovid=dcovid.sort_values(['Country/Region','Province/State','Date']).reset_index(drop=True)\n",
        "dcovid"
      ],
      "execution_count": 0,
      "outputs": []
    },
    {
      "cell_type": "code",
      "metadata": {
        "id": "ncHJFhpMniH8",
        "colab_type": "code",
        "colab": {}
      },
      "source": [
        "dcountry=dcovid.groupby(['Country/Region','Date']).sum()[['confirmed_global','deaths_global','recovered_global']]\n",
        "dcountry"
      ],
      "execution_count": 0,
      "outputs": []
    },
    {
      "cell_type": "code",
      "metadata": {
        "id": "qDQZI4huoZof",
        "colab_type": "code",
        "colab": {}
      },
      "source": [
        "dcountry.reset_index(inplace=True)\n",
        "dcountry"
      ],
      "execution_count": 0,
      "outputs": []
    },
    {
      "cell_type": "code",
      "metadata": {
        "id": "cAQMF_kgpGGN",
        "colab_type": "code",
        "colab": {}
      },
      "source": [
        "dcountry['daily_new_patient']=dcountry.groupby(['Country/Region'])['confirmed_global'].diff()\n",
        "dcountry['daily_new_patient_pct']=dcountry.groupby(['Country/Region'])['confirmed_global'].pct_change()\n",
        "dcountry"
      ],
      "execution_count": 0,
      "outputs": []
    },
    {
      "cell_type": "code",
      "metadata": {
        "id": "nRjuR83-pwtK",
        "colab_type": "code",
        "outputId": "770bc049-a92b-42d7-cbe0-953b61e0933c",
        "colab": {
          "base_uri": "https://localhost:8080/",
          "height": 321,
          "referenced_widgets": [
            "d95c159cffd0459c95299ec09dbd8640",
            "64ac9b993c604db2bc62c716dfcc9bc4",
            "2dcb625578504f90bb4f1f8c14ff654c",
            "4cfda9ce4f8745e3bde2df6f0b5ad34e",
            "b3e362cd45c642c3a989e62914a21f84",
            "ab5a8b49c50b4863b2300338b374be5e",
            "6857c7cbc5a44151aec5eeee7dc1b859"
          ]
        }
      },
      "source": [
        "@interact(country=pd.Series(dcountry['Country/Region'].unique()).sort_values())\n",
        "def plot_chart(country):\n",
        "  df=dcountry[dcountry['Country/Region'].str.contains(country)]\n",
        "  df[['Date','confirmed_global','deaths_global','recovered_global']].set_index('Date').plot(figsize=(10,4),\n",
        "                                                                                            color=['blue','red','green'])"
      ],
      "execution_count": 0,
      "outputs": [
        {
          "output_type": "display_data",
          "data": {
            "application/vnd.jupyter.widget-view+json": {
              "model_id": "d95c159cffd0459c95299ec09dbd8640",
              "version_minor": 0,
              "version_major": 2
            },
            "text/plain": [
              "interactive(children=(Dropdown(description='country', options=('Afghanistan', 'Albania', 'Algeria', 'Andorra',…"
            ]
          },
          "metadata": {
            "tags": []
          }
        }
      ]
    },
    {
      "cell_type": "code",
      "metadata": {
        "id": "PZNXvNE7ruib",
        "colab_type": "code",
        "outputId": "73e217c8-8856-4f0b-e48b-d707edefaf67",
        "colab": {
          "base_uri": "https://localhost:8080/",
          "height": 295
        }
      },
      "source": [
        "plt.figure(figsize=(10,4))\n",
        "sns.barplot(data=dcountry[dcountry['Country/Region']=='Thailand'],\n",
        "            x='Date',y='daily_new_patient',color='gray')"
      ],
      "execution_count": 0,
      "outputs": [
        {
          "output_type": "execute_result",
          "data": {
            "text/plain": [
              "<matplotlib.axes._subplots.AxesSubplot at 0x7f85c1136b00>"
            ]
          },
          "metadata": {
            "tags": []
          },
          "execution_count": 37
        },
        {
          "output_type": "display_data",
          "data": {
            "image/png": "[encoded data removed]",
            "text/plain": [
              "<Figure size 720x288 with 1 Axes>"
            ]
          },
          "metadata": {
            "tags": [],
            "image/png": {
              "width": 738,
              "height": 261
            },
            "needs_background": "light"
          }
        }
      ]
    },
    {
      "cell_type": "code",
      "metadata": {
        "id": "dDNzVaDSui5K",
        "colab_type": "code",
        "colab": {}
      },
      "source": [
        ""
      ],
      "execution_count": 0,
      "outputs": []
    }
  ]
}